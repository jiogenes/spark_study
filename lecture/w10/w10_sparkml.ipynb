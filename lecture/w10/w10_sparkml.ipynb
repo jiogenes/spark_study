{
 "cells": [
  {
   "cell_type": "code",
   "execution_count": 1,
   "metadata": {},
   "outputs": [
    {
     "name": "stdout",
     "output_type": "stream",
     "text": [
      "22/11/03 16:12:57 WARN Utils: Your hostname, orange resolves to a loopback address: 127.0.1.1; using 166.104.246.51 instead (on interface enp15s0)\n",
      "22/11/03 16:12:57 WARN Utils: Set SPARK_LOCAL_IP if you need to bind to another address\n"
     ]
    },
    {
     "name": "stderr",
     "output_type": "stream",
     "text": [
      "Setting default log level to \"WARN\".\n",
      "To adjust logging level use sc.setLogLevel(newLevel). For SparkR, use setLogLevel(newLevel).\n"
     ]
    },
    {
     "name": "stdout",
     "output_type": "stream",
     "text": [
      "22/11/03 16:12:58 WARN NativeCodeLoader: Unable to load native-hadoop library for your platform... using builtin-java classes where applicable\n",
      "22/11/03 16:12:59 WARN Utils: Service 'SparkUI' could not bind on port 4050. Attempting port 4051.\n"
     ]
    }
   ],
   "source": [
    "from pyspark.sql import SparkSession\n",
    "\n",
    "spark = SparkSession.builder \\\n",
    "        .master(\"local\") \\\n",
    "        .appName(\"Spark ML ex\") \\\n",
    "        .config(\"spark.ui.port\", \"4050\") \\\n",
    "        .getOrCreate()\n",
    "\n",
    "sc = spark.sparkContext"
   ]
  },
  {
   "cell_type": "code",
   "execution_count": 9,
   "metadata": {},
   "outputs": [
    {
     "name": "stdout",
     "output_type": "stream",
     "text": [
      "(100,) (100,)\n",
      "+-----------------------------------------+\n",
      "|point                                    |\n",
      "+-----------------------------------------+\n",
      "|[-0.2459447501136685,-0.5144881519861378]|\n",
      "|[4.156844727038653,-2.4387409463314405]  |\n",
      "|[2.1621355273399776,0.3229967399991434]  |\n",
      "|[1.9392233464120734,-0.4069024580039728] |\n",
      "|[1.0824445524368689,-1.2616416748204813] |\n",
      "+-----------------------------------------+\n",
      "only showing top 5 rows\n",
      "\n",
      "None\n"
     ]
    }
   ],
   "source": [
    "import numpy as np\n",
    "from pyspark.ml.feature import PCA\n",
    "import matplotlib.pyplot as plt\n",
    "from pyspark.ml.linalg import Vectors\n",
    "\n",
    "x, y = np.random.multivariate_normal([0, 0], [[6, -2], [-2, 1]], 100).T\n",
    "dataset = spark.createDataFrame([[Vectors.dense([x, y])] for x, y in zip(x, y)], ['point'])\n",
    "\n",
    "print(x.shape, y.shape)\n",
    "print(dataset.show(5, truncate=False))\n",
    "# print(dataset.count())"
   ]
  },
  {
   "cell_type": "code",
   "execution_count": 11,
   "metadata": {},
   "outputs": [
    {
     "name": "stdout",
     "output_type": "stream",
     "text": [
      "+-----------------------------------------+---------------------+\n",
      "|point                                    |features             |\n",
      "+-----------------------------------------+---------------------+\n",
      "|[-0.2459447501136685,-0.5144881519861378]|[0.04236141642319363]|\n",
      "|[4.156844727038653,-2.4387409463314405]  |[-4.758630199928948] |\n",
      "|[2.1621355273399776,0.3229967399991434]  |[-1.8973148679115435]|\n",
      "|[1.9392233464120734,-0.4069024580039728] |[-1.9546254055153696]|\n",
      "|[1.0824445524368689,-1.2616416748204813] |[-1.466652105333682] |\n",
      "+-----------------------------------------+---------------------+\n",
      "only showing top 5 rows\n",
      "\n"
     ]
    }
   ],
   "source": [
    "pca = PCA(k=1, inputCol=\"point\", outputCol=\"features\")\n",
    "model = pca.fit(dataset)\n",
    "reduced = model.transform(dataset)\n",
    "reduced.show(5, truncate=False)"
   ]
  },
  {
   "cell_type": "code",
   "execution_count": 14,
   "metadata": {},
   "outputs": [
    {
     "data": {
      "text/plain": [
       "DenseMatrix(2, 1, [-0.9318, 0.3631], 0)"
      ]
     },
     "execution_count": 14,
     "metadata": {},
     "output_type": "execute_result"
    }
   ],
   "source": [
    "model.pc"
   ]
  },
  {
   "cell_type": "code",
   "execution_count": null,
   "metadata": {},
   "outputs": [],
   "source": [
    "plt.plot(dataset.select('point'))"
   ]
  },
  {
   "cell_type": "code",
   "execution_count": 30,
   "metadata": {},
   "outputs": [
    {
     "data": {
      "text/plain": [
       "DenseVector([-0.2459, -0.5145])"
      ]
     },
     "execution_count": 30,
     "metadata": {},
     "output_type": "execute_result"
    }
   ],
   "source": [
    "dataset.select('point').collect()[0].point"
   ]
  },
  {
   "cell_type": "code",
   "execution_count": null,
   "metadata": {},
   "outputs": [],
   "source": []
  }
 ],
 "metadata": {
  "kernelspec": {
   "display_name": "Python 3.8.13 ('spark')",
   "language": "python",
   "name": "python3"
  },
  "language_info": {
   "codemirror_mode": {
    "name": "ipython",
    "version": 3
   },
   "file_extension": ".py",
   "mimetype": "text/x-python",
   "name": "python",
   "nbconvert_exporter": "python",
   "pygments_lexer": "ipython3",
   "version": "3.8.13"
  },
  "orig_nbformat": 4,
  "vscode": {
   "interpreter": {
    "hash": "2d3673617709ceda87ac6d055fc19541640288a4bee74fd36c0e58c49d867a56"
   }
  }
 },
 "nbformat": 4,
 "nbformat_minor": 2
}
