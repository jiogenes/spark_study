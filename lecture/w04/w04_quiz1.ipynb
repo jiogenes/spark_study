{
 "cells": [
  {
   "cell_type": "code",
   "execution_count": 1,
   "metadata": {},
   "outputs": [
    {
     "name": "stdout",
     "output_type": "stream",
     "text": [
      "22/09/22 16:06:22 WARN Utils: Your hostname, orange resolves to a loopback address: 127.0.1.1; using 166.104.246.51 instead (on interface enp15s0)\n",
      "22/09/22 16:06:22 WARN Utils: Set SPARK_LOCAL_IP if you need to bind to another address\n"
     ]
    },
    {
     "name": "stderr",
     "output_type": "stream",
     "text": [
      "Setting default log level to \"WARN\".\n",
      "To adjust logging level use sc.setLogLevel(newLevel). For SparkR, use setLogLevel(newLevel).\n"
     ]
    },
    {
     "name": "stdout",
     "output_type": "stream",
     "text": [
      "22/09/22 16:06:23 WARN NativeCodeLoader: Unable to load native-hadoop library for your platform... using builtin-java classes where applicable\n"
     ]
    }
   ],
   "source": [
    "from pyspark.sql import SparkSession\n",
    "\n",
    "spark = SparkSession.builder \\\n",
    "        .master('local') \\\n",
    "        .appName('Quiz1') \\\n",
    "        .config('spark.ui.port', '4050') \\\n",
    "        .getOrCreate()\n",
    "\n",
    "sc = spark.sparkContext"
   ]
  },
  {
   "cell_type": "markdown",
   "metadata": {},
   "source": [
    "입력 데이터\n",
    "* 파일: sherlock.txt\n",
    "  \n",
    "문제\n",
    "* 출현하는 단어의 첫 번째 두 글자 (= 길이2짜리 머리글자)의 출현 빈도를 세고 이 출현빈도가 정확히 32인 \"길이 2짜리 머리글자\"로 시작하는 단어들을 중복없이 나열하였을 때 그 개수를 계산하시오.\n",
    "* 예를 들어 \"active action accuracy behave behave behave \"라는 문서가 있다면 첫번째 두글자의 출현 빈도는 (ac, 3), (be, 3) 가 될테고, 이 중 예를 들어 출현빈도가 정확히 3인 \"두글자\"로 시작하는 단어들의 리스트는 active action accuracy behave behave behave 가 될것이고 이를 중복없이 나열하였을 때 그 개수는 4이다.\n",
    "* 힌트: groupByKey를 써서 두글자의 카운트를 세고 flatMap을 써서 출현빈도가 32인 길이 2인 머리글자를 가진 단어를 리스트한 다음 count 가능\n",
    "  \n",
    "주의\n",
    "* 대소문자 구별하지 않음\n",
    "* 문장부호(, . ? ‘ “ 등)은 따로 처리하지 않음"
   ]
  },
  {
   "cell_type": "code",
   "execution_count": 13,
   "metadata": {},
   "outputs": [
    {
     "data": {
      "text/plain": [
       "'A STUDY IN SCARLET.'"
      ]
     },
     "execution_count": 13,
     "metadata": {},
     "output_type": "execute_result"
    }
   ],
   "source": [
    "data = sc.textFile('../../data/input2/sherlock.txt')\n",
    "data.first()"
   ]
  },
  {
   "cell_type": "code",
   "execution_count": 48,
   "metadata": {},
   "outputs": [
    {
     "data": {
      "text/plain": [
       "35"
      ]
     },
     "execution_count": 48,
     "metadata": {},
     "output_type": "execute_result"
    }
   ],
   "source": [
    "data.flatMap(lambda x: x.split())\\\n",
    "    .map(lambda x: (x[:2].lower(), x))\\\n",
    "    .groupByKey()\\\n",
    "    .mapValues(list)\\\n",
    "    .filter(lambda x: len(x[1]) == 32)\\\n",
    "    .flatMap(lambda x: x[1])\\\n",
    "    .distinct()\\\n",
    "    .count()"
   ]
  },
  {
   "cell_type": "code",
   "execution_count": 51,
   "metadata": {},
   "outputs": [],
   "source": [
    "sc.stop()"
   ]
  },
  {
   "cell_type": "code",
   "execution_count": null,
   "metadata": {},
   "outputs": [],
   "source": []
  }
 ],
 "metadata": {
  "kernelspec": {
   "display_name": "Python 3.8.13 ('spark')",
   "language": "python",
   "name": "python3"
  },
  "language_info": {
   "codemirror_mode": {
    "name": "ipython",
    "version": 3
   },
   "file_extension": ".py",
   "mimetype": "text/x-python",
   "name": "python",
   "nbconvert_exporter": "python",
   "pygments_lexer": "ipython3",
   "version": "3.8.13"
  },
  "orig_nbformat": 4,
  "vscode": {
   "interpreter": {
    "hash": "2d3673617709ceda87ac6d055fc19541640288a4bee74fd36c0e58c49d867a56"
   }
  }
 },
 "nbformat": 4,
 "nbformat_minor": 2
}
