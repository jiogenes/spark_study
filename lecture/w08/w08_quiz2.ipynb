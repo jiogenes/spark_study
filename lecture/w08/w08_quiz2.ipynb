{
 "cells": [
  {
   "cell_type": "code",
   "execution_count": 45,
   "metadata": {},
   "outputs": [],
   "source": [
    "from pyspark.sql import SparkSession\n",
    "\n",
    "spark = SparkSession.builder \\\n",
    "        .master(\"local\") \\\n",
    "        .appName(\"Spark ML Quiz1\") \\\n",
    "        .config(\"spark.ui.port\", \"4050\") \\\n",
    "        .getOrCreate()\n",
    "\n",
    "sc = spark.sparkContext"
   ]
  },
  {
   "cell_type": "code",
   "execution_count": 46,
   "metadata": {},
   "outputs": [
    {
     "name": "stdout",
     "output_type": "stream",
     "text": [
      "root\n",
      " |-- age: integer (nullable = true)\n",
      " |-- workclass: string (nullable = true)\n",
      " |-- fnlwgt: integer (nullable = true)\n",
      " |-- education: string (nullable = true)\n",
      " |-- educational-num: integer (nullable = true)\n",
      " |-- marital-status: string (nullable = true)\n",
      " |-- occupation: string (nullable = true)\n",
      " |-- relationship: string (nullable = true)\n",
      " |-- race: string (nullable = true)\n",
      " |-- gender: string (nullable = true)\n",
      " |-- capital-gain: integer (nullable = true)\n",
      " |-- capital-loss: integer (nullable = true)\n",
      " |-- hours-per-week: integer (nullable = true)\n",
      " |-- native-country: string (nullable = true)\n",
      " |-- income: string (nullable = true)\n",
      "\n"
     ]
    }
   ],
   "source": [
    "from pyspark.sql.types import *\n",
    "\n",
    "schema = StructType([\n",
    "    StructField('age', IntegerType(), True),\n",
    "    StructField('workclass', StringType(), True),\n",
    "    StructField('fnlwgt', IntegerType(), True),\n",
    "    StructField('education', StringType(), True),\n",
    "    StructField('educational-num', IntegerType(), True),\n",
    "    StructField('marital-status', StringType(), True),\n",
    "    StructField('occupation', StringType(), True),\n",
    "    StructField('relationship', StringType(), True),\n",
    "    StructField('race', StringType(), True),\n",
    "    StructField('gender', StringType(), True),\n",
    "    StructField('capital-gain', IntegerType(), True),\n",
    "    StructField('capital-loss', IntegerType(), True),\n",
    "    StructField('hours-per-week', IntegerType(), True),\n",
    "    StructField('native-country', StringType(), True),\n",
    "    StructField('income', StringType(), True),\n",
    "])\n",
    "\n",
    "data = spark.read.format('csv').option('header', 'true').schema(schema).load('../../data/input5/income_data.csv')\n",
    "data.printSchema()"
   ]
  },
  {
   "cell_type": "code",
   "execution_count": 47,
   "metadata": {},
   "outputs": [
    {
     "name": "stdout",
     "output_type": "stream",
     "text": [
      "+-------+------------------+\n",
      "|summary|               age|\n",
      "+-------+------------------+\n",
      "|  count|             32561|\n",
      "|   mean| 38.58164675532078|\n",
      "| stddev|13.640432553581356|\n",
      "|    min|                17|\n",
      "|    max|                90|\n",
      "+-------+------------------+\n",
      "\n"
     ]
    }
   ],
   "source": [
    "data.select('age').describe().show()"
   ]
  },
  {
   "cell_type": "code",
   "execution_count": 48,
   "metadata": {},
   "outputs": [
    {
     "name": "stderr",
     "output_type": "stream",
     "text": [
      "                                                                                \r"
     ]
    },
    {
     "data": {
      "text/plain": [
       "2399"
      ]
     },
     "execution_count": 48,
     "metadata": {},
     "output_type": "execute_result"
    }
   ],
   "source": [
    "prep_cols = ['age', 'workclass', 'fnlwgt', 'education', 'educational-num', 'marital-status', 'occupation', 'relationship', 'race', 'gender', 'capital-gain', 'capital-loss', 'hours-per-week', 'native-country', 'income']\n",
    "data.rdd.map(lambda row: 1 if sum([row[c] == ' ?' for c in prep_cols]) > 0 else 0)\\\n",
    "        .reduce(lambda x, y: x + y)"
   ]
  },
  {
   "cell_type": "code",
   "execution_count": 49,
   "metadata": {},
   "outputs": [
    {
     "name": "stdout",
     "output_type": "stream",
     "text": [
      "+---+-----------------+------+----------+---------------+-------------------+------------------+--------------+------+-------+------------+------------+--------------+--------------+------+\n",
      "|age|        workclass|fnlwgt| education|educational-num|     marital-status|        occupation|  relationship|  race| gender|capital-gain|capital-loss|hours-per-week|native-country|income|\n",
      "+---+-----------------+------+----------+---------------+-------------------+------------------+--------------+------+-------+------------+------------+--------------+--------------+------+\n",
      "| 39|        State-gov| 77516| Bachelors|             13|      Never-married|      Adm-clerical| Not-in-family| White|   Male|        2174|           0|            40| United-States| <=50K|\n",
      "| 50| Self-emp-not-inc| 83311| Bachelors|             13| Married-civ-spouse|   Exec-managerial|       Husband| White|   Male|           0|           0|            13| United-States| <=50K|\n",
      "| 38|          Private|215646|   HS-grad|              9|           Divorced| Handlers-cleaners| Not-in-family| White|   Male|           0|           0|            40| United-States| <=50K|\n",
      "| 53|          Private|234721|      11th|              7| Married-civ-spouse| Handlers-cleaners|       Husband| Black|   Male|           0|           0|            40| United-States| <=50K|\n",
      "| 28|          Private|338409| Bachelors|             13| Married-civ-spouse|    Prof-specialty|          Wife| Black| Female|           0|           0|            40|          Cuba| <=50K|\n",
      "+---+-----------------+------+----------+---------------+-------------------+------------------+--------------+------+-------+------------+------------+--------------+--------------+------+\n",
      "only showing top 5 rows\n",
      "\n"
     ]
    }
   ],
   "source": [
    "import pyspark.sql.functions as fn\n",
    "\n",
    "for c in prep_cols:\n",
    "    data = data.withColumn(c, fn.when(fn.col(c) == ' ?', None).otherwise(fn.col(c)))\n",
    "\n",
    "data.show(5)"
   ]
  },
  {
   "cell_type": "code",
   "execution_count": 50,
   "metadata": {},
   "outputs": [
    {
     "name": "stdout",
     "output_type": "stream",
     "text": [
      "+-----------+-----------------+--------------+-----------------+-----------------------+----------------------+------------------+--------------------+------------+--------------+--------------------+--------------------+----------------------+----------------------+--------------+\n",
      "|age_missing|workclass_missing|fnlwgt_missing|education_missing|educational-num_missing|marital-status_missing|occupation_missing|relationship_missing|race_missing|gender_missing|capital-gain_missing|capital-loss_missing|hours-per-week_missing|native-country_missing|income_missing|\n",
      "+-----------+-----------------+--------------+-----------------+-----------------------+----------------------+------------------+--------------------+------------+--------------+--------------------+--------------------+----------------------+----------------------+--------------+\n",
      "|        1.0|0.943613525383127|           1.0|              1.0|                    1.0|                   1.0|0.9433985442707533|                 1.0|         1.0|           1.0|                 1.0|                 1.0|                   1.0|    0.9820951444980192|           1.0|\n",
      "+-----------+-----------------+--------------+-----------------+-----------------------+----------------------+------------------+--------------------+------------+--------------+--------------------+--------------------+----------------------+----------------------+--------------+\n",
      "\n"
     ]
    }
   ],
   "source": [
    "data.select(*[(fn.count(c) / fn.count('*')).alias(c + '_missing') for c in prep_cols]).show()"
   ]
  },
  {
   "cell_type": "code",
   "execution_count": 51,
   "metadata": {},
   "outputs": [
    {
     "data": {
      "text/plain": [
       "30162"
      ]
     },
     "execution_count": 51,
     "metadata": {},
     "output_type": "execute_result"
    }
   ],
   "source": [
    "data = data.dropna()\n",
    "data.count()"
   ]
  },
  {
   "cell_type": "code",
   "execution_count": 52,
   "metadata": {},
   "outputs": [
    {
     "name": "stdout",
     "output_type": "stream",
     "text": [
      "+-----------------+-----------------+----------------------+------------------+--------------------+------------+--------------+----------------------+--------------+\n",
      "|workclass_numeric|education_numeric|marital-status_numeric|occupation_numeric|relationship_numeric|race_numeric|gender_numeric|native-country_numeric|income_numeric|\n",
      "+-----------------+-----------------+----------------------+------------------+--------------------+------------+--------------+----------------------+--------------+\n",
      "|              3.0|              2.0|                   1.0|               3.0|                 1.0|         0.0|           0.0|                   0.0|           0.0|\n",
      "|              1.0|              2.0|                   0.0|               2.0|                 0.0|         0.0|           0.0|                   0.0|           0.0|\n",
      "|              0.0|              0.0|                   2.0|               8.0|                 1.0|         0.0|           0.0|                   0.0|           0.0|\n",
      "|              0.0|              5.0|                   0.0|               8.0|                 0.0|         1.0|           0.0|                   0.0|           0.0|\n",
      "|              0.0|              2.0|                   0.0|               0.0|                 4.0|         1.0|           1.0|                   8.0|           0.0|\n",
      "+-----------------+-----------------+----------------------+------------------+--------------------+------------+--------------+----------------------+--------------+\n",
      "only showing top 5 rows\n",
      "\n"
     ]
    }
   ],
   "source": [
    "from pyspark.ml.feature import StringIndexer\n",
    "\n",
    "string_cols = ['workclass', 'education', 'marital-status', 'occupation', 'relationship', 'race', 'gender', 'native-country', 'income']\n",
    "string_cols_numeric = ['workclass_numeric', 'education_numeric', 'marital-status_numeric', 'occupation_numeric', 'relationship_numeric', 'race_numeric', 'gender_numeric', 'native-country_numeric', 'income_numeric']\n",
    "\n",
    "indexer = StringIndexer(inputCols=string_cols, outputCols=string_cols_numeric)\n",
    "indexer_fitted = indexer.fit(data)\n",
    "data_indexed = indexer_fitted.transform(data)\n",
    "data_indexed.select(*string_cols_numeric).show(5)"
   ]
  },
  {
   "cell_type": "code",
   "execution_count": 53,
   "metadata": {},
   "outputs": [
    {
     "name": "stdout",
     "output_type": "stream",
     "text": [
      "+---+-----------------+------+----------+---------------+-------------------+------------------+--------------+------+-------+------------+------------+--------------+--------------+------+-----------------+-----------------+----------------------+------------------+--------------------+------------+--------------+----------------------+--------------+----------------+----------------+---------------------+-----------------+-------------------+-------------+-------------+---------------------+\n",
      "|age|        workclass|fnlwgt| education|educational-num|     marital-status|        occupation|  relationship|  race| gender|capital-gain|capital-loss|hours-per-week|native-country|income|workclass_numeric|education_numeric|marital-status_numeric|occupation_numeric|relationship_numeric|race_numeric|gender_numeric|native-country_numeric|income_numeric|workclass_onehot|education_onehot|marital-status_onehot|occupation_onehot|relationship_onehot|  race_onehot|gender_onehot|native-country_onehot|\n",
      "+---+-----------------+------+----------+---------------+-------------------+------------------+--------------+------+-------+------------+------------+--------------+--------------+------+-----------------+-----------------+----------------------+------------------+--------------------+------------+--------------+----------------------+--------------+----------------+----------------+---------------------+-----------------+-------------------+-------------+-------------+---------------------+\n",
      "| 39|        State-gov| 77516| Bachelors|             13|      Never-married|      Adm-clerical| Not-in-family| White|   Male|        2174|           0|            40| United-States| <=50K|              3.0|              2.0|                   1.0|               3.0|                 1.0|         0.0|           0.0|                   0.0|           0.0|   (6,[3],[1.0])|  (15,[2],[1.0])|        (6,[1],[1.0])|   (13,[3],[1.0])|      (5,[1],[1.0])|(4,[0],[1.0])|(1,[0],[1.0])|       (40,[0],[1.0])|\n",
      "| 50| Self-emp-not-inc| 83311| Bachelors|             13| Married-civ-spouse|   Exec-managerial|       Husband| White|   Male|           0|           0|            13| United-States| <=50K|              1.0|              2.0|                   0.0|               2.0|                 0.0|         0.0|           0.0|                   0.0|           0.0|   (6,[1],[1.0])|  (15,[2],[1.0])|        (6,[0],[1.0])|   (13,[2],[1.0])|      (5,[0],[1.0])|(4,[0],[1.0])|(1,[0],[1.0])|       (40,[0],[1.0])|\n",
      "| 38|          Private|215646|   HS-grad|              9|           Divorced| Handlers-cleaners| Not-in-family| White|   Male|           0|           0|            40| United-States| <=50K|              0.0|              0.0|                   2.0|               8.0|                 1.0|         0.0|           0.0|                   0.0|           0.0|   (6,[0],[1.0])|  (15,[0],[1.0])|        (6,[2],[1.0])|   (13,[8],[1.0])|      (5,[1],[1.0])|(4,[0],[1.0])|(1,[0],[1.0])|       (40,[0],[1.0])|\n",
      "| 53|          Private|234721|      11th|              7| Married-civ-spouse| Handlers-cleaners|       Husband| Black|   Male|           0|           0|            40| United-States| <=50K|              0.0|              5.0|                   0.0|               8.0|                 0.0|         1.0|           0.0|                   0.0|           0.0|   (6,[0],[1.0])|  (15,[5],[1.0])|        (6,[0],[1.0])|   (13,[8],[1.0])|      (5,[0],[1.0])|(4,[1],[1.0])|(1,[0],[1.0])|       (40,[0],[1.0])|\n",
      "| 28|          Private|338409| Bachelors|             13| Married-civ-spouse|    Prof-specialty|          Wife| Black| Female|           0|           0|            40|          Cuba| <=50K|              0.0|              2.0|                   0.0|               0.0|                 4.0|         1.0|           1.0|                   8.0|           0.0|   (6,[0],[1.0])|  (15,[2],[1.0])|        (6,[0],[1.0])|   (13,[0],[1.0])|      (5,[4],[1.0])|(4,[1],[1.0])|    (1,[],[])|       (40,[8],[1.0])|\n",
      "+---+-----------------+------+----------+---------------+-------------------+------------------+--------------+------+-------+------------+------------+--------------+--------------+------+-----------------+-----------------+----------------------+------------------+--------------------+------------+--------------+----------------------+--------------+----------------+----------------+---------------------+-----------------+-------------------+-------------+-------------+---------------------+\n",
      "only showing top 5 rows\n",
      "\n"
     ]
    }
   ],
   "source": [
    "from pyspark.ml.feature import OneHotEncoder\n",
    "\n",
    "string_cols_onehot = ['workclass_onehot', 'education_onehot', 'marital-status_onehot', 'occupation_onehot', 'relationship_onehot', 'race_onehot', 'gender_onehot', 'native-country_onehot']\n",
    "string_cols_numeric.remove('income_numeric')\n",
    "\n",
    "encoder = OneHotEncoder(inputCols=string_cols_numeric, outputCols=string_cols_onehot)\n",
    "data_onehot = encoder.fit(data_indexed).transform(data_indexed)\n",
    "data_onehot.show(5)"
   ]
  },
  {
   "cell_type": "code",
   "execution_count": 54,
   "metadata": {},
   "outputs": [
    {
     "data": {
      "text/plain": [
       "['workclass_onehot',\n",
       " 'education_onehot',\n",
       " 'marital-status_onehot',\n",
       " 'occupation_onehot',\n",
       " 'relationship_onehot',\n",
       " 'race_onehot',\n",
       " 'gender_onehot',\n",
       " 'native-country_onehot',\n",
       " 'age',\n",
       " 'fnlwgt',\n",
       " 'educational-num',\n",
       " 'capital-gain',\n",
       " 'capital-loss',\n",
       " 'hours-per-week',\n",
       " 'income_numeric']"
      ]
     },
     "execution_count": 54,
     "metadata": {},
     "output_type": "execute_result"
    }
   ],
   "source": [
    "int_cols = ['age', 'fnlwgt', 'educational-num', 'capital-gain', 'capital-loss', 'hours-per-week']\n",
    "\n",
    "data_onehot = data_onehot.select(*(string_cols_onehot + int_cols + ['income_numeric']))\n",
    "data_onehot.columns"
   ]
  },
  {
   "cell_type": "code",
   "execution_count": 55,
   "metadata": {},
   "outputs": [],
   "source": [
    "cols = data_onehot.columns\n",
    "cols.remove('income_numeric')"
   ]
  },
  {
   "cell_type": "code",
   "execution_count": 68,
   "metadata": {},
   "outputs": [
    {
     "data": {
      "text/plain": [
       "['workclass_onehot',\n",
       " 'education_onehot',\n",
       " 'marital-status_onehot',\n",
       " 'occupation_onehot',\n",
       " 'relationship_onehot',\n",
       " 'race_onehot',\n",
       " 'gender_onehot',\n",
       " 'native-country_onehot',\n",
       " 'age',\n",
       " 'fnlwgt',\n",
       " 'educational-num',\n",
       " 'capital-gain',\n",
       " 'capital-loss',\n",
       " 'hours-per-week']"
      ]
     },
     "execution_count": 68,
     "metadata": {},
     "output_type": "execute_result"
    }
   ],
   "source": [
    "cols"
   ]
  },
  {
   "cell_type": "code",
   "execution_count": 56,
   "metadata": {},
   "outputs": [
    {
     "name": "stdout",
     "output_type": "stream",
     "text": [
      "+-----------------------------------------------------------------------------------------------------------+\n",
      "|features                                                                                                   |\n",
      "+-----------------------------------------------------------------------------------------------------------+\n",
      "|(96,[3,8,22,30,41,45,49,50,90,91,92,93,95],[1.0,1.0,1.0,1.0,1.0,1.0,1.0,1.0,39.0,77516.0,13.0,2174.0,40.0])|\n",
      "|(96,[1,8,21,29,40,45,49,50,90,91,92,95],[1.0,1.0,1.0,1.0,1.0,1.0,1.0,1.0,50.0,83311.0,13.0,13.0])          |\n",
      "|(96,[0,6,23,35,41,45,49,50,90,91,92,95],[1.0,1.0,1.0,1.0,1.0,1.0,1.0,1.0,38.0,215646.0,9.0,40.0])          |\n",
      "|(96,[0,11,21,35,40,46,49,50,90,91,92,95],[1.0,1.0,1.0,1.0,1.0,1.0,1.0,1.0,53.0,234721.0,7.0,40.0])         |\n",
      "|(96,[0,8,21,27,44,46,58,90,91,92,95],[1.0,1.0,1.0,1.0,1.0,1.0,1.0,28.0,338409.0,13.0,40.0])                |\n",
      "+-----------------------------------------------------------------------------------------------------------+\n",
      "only showing top 5 rows\n",
      "\n"
     ]
    }
   ],
   "source": [
    "from pyspark.ml.feature import VectorAssembler\n",
    "\n",
    "assembler = VectorAssembler(inputCols=cols, outputCol='features')\n",
    "data = assembler.transform(data_onehot)\n",
    "data.select('features').show(5, truncate=False)"
   ]
  },
  {
   "cell_type": "code",
   "execution_count": 63,
   "metadata": {},
   "outputs": [
    {
     "name": "stdout",
     "output_type": "stream",
     "text": [
      "+--------------------+--------------------+\n",
      "|            features|     scaled_features|\n",
      "+--------------------+--------------------+\n",
      "|(96,[3,8,22,30,41...|(96,[3,8,22,30,41...|\n",
      "|(96,[1,8,21,29,40...|(96,[1,8,21,29,40...|\n",
      "|(96,[0,6,23,35,41...|(96,[0,6,23,35,41...|\n",
      "|(96,[0,11,21,35,4...|(96,[0,11,21,35,4...|\n",
      "|(96,[0,8,21,27,44...|(96,[0,8,21,27,44...|\n",
      "+--------------------+--------------------+\n",
      "only showing top 5 rows\n",
      "\n"
     ]
    }
   ],
   "source": [
    "from pyspark.ml.feature import StandardScaler\n",
    "\n",
    "standard_scaler = StandardScaler(inputCol='features', outputCol='scaled_features', withStd=True, withMean=False)\n",
    "data_scaled = standard_scaler.fit(data).transform(data)\n",
    "data_scaled.select('features', 'scaled_features').show(5)"
   ]
  },
  {
   "cell_type": "code",
   "execution_count": 64,
   "metadata": {},
   "outputs": [
    {
     "name": "stderr",
     "output_type": "stream",
     "text": [
      "                                                                                \r"
     ]
    },
    {
     "data": {
      "text/plain": [
       "(24218, 5944)"
      ]
     },
     "execution_count": 64,
     "metadata": {},
     "output_type": "execute_result"
    }
   ],
   "source": [
    "train, test = data_scaled.randomSplit([0.8, 0.2], seed=37)\n",
    "train.count(), test.count()"
   ]
  },
  {
   "cell_type": "code",
   "execution_count": 65,
   "metadata": {},
   "outputs": [
    {
     "name": "stderr",
     "output_type": "stream",
     "text": [
      "[Stage 606:>                                                        (0 + 1) / 1]\r"
     ]
    },
    {
     "name": "stdout",
     "output_type": "stream",
     "text": [
      "+--------------+----------+\n",
      "|income_numeric|prediction|\n",
      "+--------------+----------+\n",
      "|           0.0|       0.0|\n",
      "|           0.0|       0.0|\n",
      "|           0.0|       0.0|\n",
      "|           0.0|       0.0|\n",
      "|           0.0|       0.0|\n",
      "|           0.0|       0.0|\n",
      "|           0.0|       0.0|\n",
      "|           0.0|       0.0|\n",
      "|           0.0|       0.0|\n",
      "|           0.0|       0.0|\n",
      "|           0.0|       0.0|\n",
      "|           0.0|       0.0|\n",
      "|           0.0|       0.0|\n",
      "|           0.0|       0.0|\n",
      "|           1.0|       0.0|\n",
      "|           0.0|       0.0|\n",
      "|           0.0|       0.0|\n",
      "|           0.0|       0.0|\n",
      "|           1.0|       0.0|\n",
      "|           0.0|       1.0|\n",
      "+--------------+----------+\n",
      "only showing top 20 rows\n",
      "\n"
     ]
    },
    {
     "name": "stderr",
     "output_type": "stream",
     "text": [
      "                                                                                \r"
     ]
    }
   ],
   "source": [
    "from pyspark.ml.classification import LinearSVC\n",
    "\n",
    "lr = LinearSVC(labelCol='income_numeric', featuresCol='features', maxIter=100)\n",
    "model = lr.fit(train)\n",
    "predict_train = model.transform(train)\n",
    "predict_test = model.transform(test)\n",
    "predict_test.select('income_numeric', 'prediction').show()"
   ]
  },
  {
   "cell_type": "code",
   "execution_count": 66,
   "metadata": {},
   "outputs": [
    {
     "name": "stderr",
     "output_type": "stream",
     "text": [
      "                                                                                \r"
     ]
    },
    {
     "data": {
      "text/plain": [
       "4975"
      ]
     },
     "execution_count": 66,
     "metadata": {},
     "output_type": "execute_result"
    }
   ],
   "source": [
    "predict_test.rdd.map(lambda row: 1 if row['income_numeric'] == row['prediction'] else 0).reduce(lambda x, y: x + y)"
   ]
  },
  {
   "cell_type": "code",
   "execution_count": 67,
   "metadata": {},
   "outputs": [
    {
     "name": "stderr",
     "output_type": "stream",
     "text": [
      "                                                                                \r"
     ]
    },
    {
     "data": {
      "text/plain": [
       "0.8369784656796769"
      ]
     },
     "execution_count": 67,
     "metadata": {},
     "output_type": "execute_result"
    }
   ],
   "source": [
    "predict_test.rdd.map(lambda row: 1 if row['income_numeric'] == row['prediction'] else 0).reduce(lambda x, y: x + y) / predict_test.count()"
   ]
  },
  {
   "cell_type": "code",
   "execution_count": null,
   "metadata": {},
   "outputs": [],
   "source": [
    "sc.stop()"
   ]
  }
 ],
 "metadata": {
  "kernelspec": {
   "display_name": "Python 3.8.13 ('spark')",
   "language": "python",
   "name": "python3"
  },
  "language_info": {
   "codemirror_mode": {
    "name": "ipython",
    "version": 3
   },
   "file_extension": ".py",
   "mimetype": "text/x-python",
   "name": "python",
   "nbconvert_exporter": "python",
   "pygments_lexer": "ipython3",
   "version": "3.8.13"
  },
  "orig_nbformat": 4,
  "vscode": {
   "interpreter": {
    "hash": "2d3673617709ceda87ac6d055fc19541640288a4bee74fd36c0e58c49d867a56"
   }
  }
 },
 "nbformat": 4,
 "nbformat_minor": 2
}
