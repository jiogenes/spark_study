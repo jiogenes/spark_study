{
 "cells": [
  {
   "cell_type": "code",
   "execution_count": 2,
   "metadata": {},
   "outputs": [],
   "source": [
    "from pyspark.sql import SparkSession\n",
    "\n",
    "spark = SparkSession.builder \\\n",
    "        .master('local') \\\n",
    "        .appName('Quiz2') \\\n",
    "        .config('spark.ui.port', '4050') \\\n",
    "        .getOrCreate()\n",
    "\n",
    "sc = spark.sparkContext"
   ]
  },
  {
   "cell_type": "markdown",
   "metadata": {},
   "source": [
    "문제 1.\n",
    "\n",
    "3년 연속 같은 상을 수상한 선수를 찾아 그 3년간의 연봉평균을 출력하시오\n",
    "만일, 3년 초과 같은 상을 수상하였다면 모든 연속된 3년에 대해 연봉평균을 출력하시오"
   ]
  },
  {
   "cell_type": "code",
   "execution_count": 58,
   "metadata": {},
   "outputs": [],
   "source": [
    "from pyspark.sql.types import *\n",
    "import pandas as pd\n",
    "from pyspark.sql.functions import pandas_udf\n",
    "\n",
    "# playerID,awardID,yearID,lgID,tie,notes\n",
    "# yearID,teamID,lgID,playerID,salary\n",
    "\n",
    "awards_player_schema = StructType([\n",
    "    StructField(\"playerID\", StringType(), False),\n",
    "    StructField(\"awardID\", StringType(), False),\n",
    "    StructField(\"yearID\", LongType(), False),\n",
    "    StructField(\"lgID\", StringType(), False),\n",
    "    StructField(\"tie\", StringType(), True),\n",
    "    StructField(\"notes\", StringType(), True),\n",
    "])\n",
    "\n",
    "awards_player = spark.read.format(\"csv\").option('header', 'false').option(\"sep\", \",\").schema(awards_player_schema).load(\"../../data/input4/AwardsPlayers.csv\")\n",
    "\n",
    "salaries_schema = StructType([\n",
    "    StructField(\"yearID\", LongType(), False),\n",
    "    StructField(\"teamID\", StringType(), False),\n",
    "    StructField(\"lgID\", StringType(), False),\n",
    "    StructField(\"playerID\", StringType(), False),\n",
    "    StructField(\"salary\", LongType(), False),\n",
    "])\n",
    "\n",
    "salaries = spark.read.format(\"csv\").option('header', 'false').option(\"sep\", \",\").schema(salaries_schema).load(\"../../data/input4/Salaries.csv\")"
   ]
  },
  {
   "cell_type": "code",
   "execution_count": 34,
   "metadata": {},
   "outputs": [
    {
     "name": "stdout",
     "output_type": "stream",
     "text": [
      "+---------+--------+------+----+----+-----+\n",
      "| playerID| awardID|yearID|lgID| tie|notes|\n",
      "+---------+--------+------+----+----+-----+\n",
      "|whitefr01|ALCS MVP|  1980|  AL|null| null|\n",
      "|nettlgr01|ALCS MVP|  1981|  AL|null| null|\n",
      "| lynnfr01|ALCS MVP|  1982|  AL|null| null|\n",
      "|boddimi01|ALCS MVP|  1983|  AL|null| null|\n",
      "|gibsoki01|ALCS MVP|  1984|  AL|null| null|\n",
      "+---------+--------+------+----+----+-----+\n",
      "only showing top 5 rows\n",
      "\n",
      "+------+------+----+---------+-------+\n",
      "|yearID|teamID|lgID| playerID| salary|\n",
      "+------+------+----+---------+-------+\n",
      "|  1985|   BAL|  AL|murraed02|1472819|\n",
      "|  1985|   BAL|  AL| lynnfr01|1090000|\n",
      "|  1985|   BAL|  AL|ripkeca01| 800000|\n",
      "|  1985|   BAL|  AL| lacyle01| 725000|\n",
      "|  1985|   BAL|  AL|flanami01| 641667|\n",
      "+------+------+----+---------+-------+\n",
      "only showing top 5 rows\n",
      "\n"
     ]
    }
   ],
   "source": [
    "awards_player.show(5)\n",
    "salaries.show(5)"
   ]
  },
  {
   "cell_type": "code",
   "execution_count": 47,
   "metadata": {},
   "outputs": [
    {
     "name": "stdout",
     "output_type": "stream",
     "text": [
      "+---------+--------------+------+-------+\n",
      "| playerID|       awardID|yearID| salary|\n",
      "+---------+--------------+------+-------+\n",
      "|ripkeca01|  TSN All-Star|  1985| 800000|\n",
      "|ripkeca01|Silver Slugger|  1985| 800000|\n",
      "|boggswa01|  TSN All-Star|  1985|1000000|\n",
      "|evansdw01|    Gold Glove|  1985| 800000|\n",
      "|pettiga01|    Gold Glove|  1985| 125000|\n",
      "+---------+--------------+------+-------+\n",
      "only showing top 5 rows\n",
      "\n"
     ]
    }
   ],
   "source": [
    "cond = [awards_player['playerID'] == salaries['playerID'], awards_player['yearID'] == salaries['yearID']]\n",
    "awards_salaries = awards_player.join(salaries, cond, 'inner').select(awards_player['playerID'], 'awardID', awards_player['yearID'], 'salary')\n",
    "awards_salaries.show(5)"
   ]
  },
  {
   "cell_type": "code",
   "execution_count": 45,
   "metadata": {},
   "outputs": [
    {
     "name": "stdout",
     "output_type": "stream",
     "text": [
      "+---------+--------------+-----+\n",
      "| playerID|       awardID|count|\n",
      "+---------+--------------+-----+\n",
      "|fernato01|    Gold Glove|    4|\n",
      "|ordonma01|  TSN All-Star|    3|\n",
      "|molitpa01|Silver Slugger|    4|\n",
      "|martied01|  TSN All-Star|    4|\n",
      "|chaveer01|    Gold Glove|    6|\n",
      "+---------+--------------+-----+\n",
      "only showing top 5 rows\n",
      "\n"
     ]
    }
   ],
   "source": [
    "gap = awards_salaries.groupBy('playerID', 'awardID').count().where('count>=3')\n",
    "gap.show(5)"
   ]
  },
  {
   "cell_type": "code",
   "execution_count": 77,
   "metadata": {},
   "outputs": [
    {
     "name": "stdout",
     "output_type": "stream",
     "text": [
      "+---------+----------+------+-------+\n",
      "| playerID|   awardID|yearID| salary|\n",
      "+---------+----------+------+-------+\n",
      "|alomaro01|Gold Glove|  1991|1300000|\n",
      "|alomaro01|Gold Glove|  1992|2983333|\n",
      "|alomaro01|Gold Glove|  1993|4933333|\n",
      "|alomaro01|Gold Glove|  1994|5433334|\n",
      "|alomaro01|Gold Glove|  1995|5500000|\n",
      "+---------+----------+------+-------+\n",
      "only showing top 5 rows\n",
      "\n"
     ]
    }
   ],
   "source": [
    "cond = [awards_salaries['playerID'] == gap['playerID'], awards_salaries['awardID'] == gap['awardID']]\n",
    "awards_salaries3 = awards_salaries.join(gap, cond, 'inner').select(awards_salaries['playerID'], awards_salaries['awardID'], 'yearID', 'salary')\n",
    "awards_salaries3 = awards_salaries3.sort('playerID', 'awardID', 'yearID')\n",
    "awards_salaries3.show(5)"
   ]
  },
  {
   "cell_type": "code",
   "execution_count": 82,
   "metadata": {},
   "outputs": [
    {
     "name": "stdout",
     "output_type": "stream",
     "text": [
      "+---------+----------+------+-------+-------+\n",
      "| playerID|   awardID|yearID| salary|row_num|\n",
      "+---------+----------+------+-------+-------+\n",
      "|alomaro01|Gold Glove|  1991|1300000|      1|\n",
      "|alomaro01|Gold Glove|  1992|2983333|      2|\n",
      "|alomaro01|Gold Glove|  1993|4933333|      3|\n",
      "|alomaro01|Gold Glove|  1994|5433334|      4|\n",
      "|alomaro01|Gold Glove|  1995|5500000|      5|\n",
      "+---------+----------+------+-------+-------+\n",
      "only showing top 5 rows\n",
      "\n"
     ]
    }
   ],
   "source": [
    "from pyspark.sql.functions import lit,row_number,col\n",
    "from pyspark.sql.window import Window\n",
    "\n",
    "w = Window().partitionBy(lit('a')).orderBy(lit('a'))\n",
    "awards_salaries3_row = awards_salaries3.withColumn(\"row_num\", row_number().over(w))\n",
    "awards_salaries3_row.show(5)"
   ]
  },
  {
   "cell_type": "code",
   "execution_count": 119,
   "metadata": {},
   "outputs": [],
   "source": [
    "result = []\n",
    "for i in range(1, awards_salaries3_row.count() - 2):\n",
    "    temp = awards_salaries3_row.filter(col(\"row_num\").between(i, i+2))\n",
    "    cnt = temp.groupBy('playerID', 'awardID').avg('salary').count()\n",
    "    if cnt == 1:\n",
    "        view = temp.collect()\n",
    "        if view[0][2] + 1 == view[1][2] and view[1][2] + 1 == view[2][2]:\n",
    "            result.append(temp.groupBy('playerID', 'awardID').avg('salary').collect()[0])"
   ]
  },
  {
   "cell_type": "code",
   "execution_count": 124,
   "metadata": {},
   "outputs": [
    {
     "name": "stdout",
     "output_type": "stream",
     "text": [
      "+---------+--------------+------------------+\n",
      "| playerID|       awardID|       avg(salary)|\n",
      "+---------+--------------+------------------+\n",
      "|alomaro01|    Gold Glove|         3072222.0|\n",
      "|alomaro01|    Gold Glove|         4450000.0|\n",
      "|alomaro01|    Gold Glove|         5288889.0|\n",
      "|alomaro01|    Gold Glove| 5070904.333333333|\n",
      "|alomaro01|    Gold Glove| 6863464.333333333|\n",
      "|alomaro01|    Gold Glove| 7332207.333333333|\n",
      "|alomaro01|  TSN All-Star| 6863464.333333333|\n",
      "|belleal01|Silver Slugger|2983333.3333333335|\n",
      "|belleal01|Silver Slugger|         4325000.0|\n",
      "|belleal01|  TSN All-Star|2983333.3333333335|\n",
      "|belleal01|  TSN All-Star|         4325000.0|\n",
      "| bellge02|Silver Slugger|          745000.0|\n",
      "|beltrca01|    Gold Glove|       1.5255222E7|\n",
      "|biggicr01|    Gold Glove|3433333.3333333335|\n",
      "|biggicr01|    Gold Glove|         4360000.0|\n",
      "|boggswa01|Silver Slugger|1558333.3333333333|\n",
      "|boggswa01|Silver Slugger|         1725000.0|\n",
      "|boggswa01|  TSN All-Star|1341666.6666666667|\n",
      "|boggswa01|  TSN All-Star|1558333.3333333333|\n",
      "|bondsba01|    Gold Glove|         2650000.0|\n",
      "+---------+--------------+------------------+\n",
      "only showing top 20 rows\n",
      "\n"
     ]
    },
    {
     "data": {
      "text/plain": [
       "295"
      ]
     },
     "execution_count": 124,
     "metadata": {},
     "output_type": "execute_result"
    }
   ],
   "source": [
    "result_df = spark.createDataFrame(result)\n",
    "result_df.show()\n",
    "result_df.count()"
   ]
  },
  {
   "cell_type": "markdown",
   "metadata": {},
   "source": [
    "문제 2.\n",
    "\n",
    "NL리그에서 가장 많이 이긴 팀을 찾으시오."
   ]
  },
  {
   "cell_type": "code",
   "execution_count": 156,
   "metadata": {},
   "outputs": [
    {
     "name": "stdout",
     "output_type": "stream",
     "text": [
      "+------+----+---+\n",
      "|teamID|lgID|  W|\n",
      "+------+----+---+\n",
      "|   BS1|  NA| 20|\n",
      "|   CH1|  NA| 19|\n",
      "|   CL1|  NA| 10|\n",
      "|   FW1|  NA|  7|\n",
      "|   NY2|  NA| 16|\n",
      "+------+----+---+\n",
      "only showing top 5 rows\n",
      "\n"
     ]
    }
   ],
   "source": [
    "teams = spark.read.options(header=True).csv('../../data/input4/Teams.csv')\n",
    "teams = teams.select(teams.teamID, teams.lgID, teams.W)\n",
    "teams.show(5)"
   ]
  },
  {
   "cell_type": "code",
   "execution_count": 157,
   "metadata": {},
   "outputs": [
    {
     "name": "stdout",
     "output_type": "stream",
     "text": [
      "root\n",
      " |-- teamID: string (nullable = true)\n",
      " |-- lgID: string (nullable = true)\n",
      " |-- W: string (nullable = true)\n",
      "\n"
     ]
    }
   ],
   "source": [
    "teams.printSchema()"
   ]
  },
  {
   "cell_type": "code",
   "execution_count": 158,
   "metadata": {},
   "outputs": [
    {
     "name": "stdout",
     "output_type": "stream",
     "text": [
      "+------+----+---+\n",
      "|teamID|lgID|  W|\n",
      "+------+----+---+\n",
      "|   BS1|  NA| 20|\n",
      "|   CH1|  NA| 19|\n",
      "|   CL1|  NA| 10|\n",
      "|   FW1|  NA|  7|\n",
      "|   NY2|  NA| 16|\n",
      "+------+----+---+\n",
      "only showing top 5 rows\n",
      "\n"
     ]
    }
   ],
   "source": [
    "teams = teams.select(\n",
    "    teams.teamID,\n",
    "    teams.lgID,\n",
    "    teams.W.cast('int')\n",
    ")\n",
    "teams.show(5)"
   ]
  },
  {
   "cell_type": "code",
   "execution_count": 165,
   "metadata": {},
   "outputs": [
    {
     "name": "stdout",
     "output_type": "stream",
     "text": [
      "root\n",
      " |-- teamID: string (nullable = true)\n",
      " |-- lgID: string (nullable = true)\n",
      " |-- W: integer (nullable = true)\n",
      "\n"
     ]
    }
   ],
   "source": [
    "teams.printSchema()"
   ]
  },
  {
   "cell_type": "code",
   "execution_count": 167,
   "metadata": {},
   "outputs": [
    {
     "name": "stdout",
     "output_type": "stream",
     "text": [
      "+------+----+-----+\n",
      "|teamID|lgID|sum_W|\n",
      "+------+----+-----+\n",
      "|   BSN|  NL| 5118|\n",
      "|   BLN|  NL|  644|\n",
      "|   ML1|  NL| 1146|\n",
      "|   ML2|  NL|   15|\n",
      "|   CN1|  NL|  125|\n",
      "+------+----+-----+\n",
      "only showing top 5 rows\n",
      "\n"
     ]
    }
   ],
   "source": [
    "teams_sum = teams.where('lgID=\"NL\"').groupBy('teamID', 'lgID').sum('W').withColumnRenamed('sum(W)', 'sum_W')\n",
    "teams_sum.show(5)"
   ]
  },
  {
   "cell_type": "code",
   "execution_count": 176,
   "metadata": {},
   "outputs": [
    {
     "name": "stdout",
     "output_type": "stream",
     "text": [
      "+------+-----+\n",
      "|teamID|sum_W|\n",
      "+------+-----+\n",
      "|   CHN|10372|\n",
      "+------+-----+\n",
      "only showing top 1 row\n",
      "\n"
     ]
    }
   ],
   "source": [
    "from pyspark.sql.functions import desc\n",
    "teams_sum.selectExpr('teamID', 'sum_W').sort(desc('sum_W')).show(1)"
   ]
  }
 ],
 "metadata": {
  "kernelspec": {
   "display_name": "Python 3.8.13 ('spark')",
   "language": "python",
   "name": "python3"
  },
  "language_info": {
   "codemirror_mode": {
    "name": "ipython",
    "version": 3
   },
   "file_extension": ".py",
   "mimetype": "text/x-python",
   "name": "python",
   "nbconvert_exporter": "python",
   "pygments_lexer": "ipython3",
   "version": "3.8.13"
  },
  "orig_nbformat": 4,
  "vscode": {
   "interpreter": {
    "hash": "2d3673617709ceda87ac6d055fc19541640288a4bee74fd36c0e58c49d867a56"
   }
  }
 },
 "nbformat": 4,
 "nbformat_minor": 2
}
