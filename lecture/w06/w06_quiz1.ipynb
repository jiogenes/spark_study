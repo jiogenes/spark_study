{
 "cells": [
  {
   "cell_type": "code",
   "execution_count": 52,
   "metadata": {},
   "outputs": [],
   "source": [
    "from pyspark.sql import SparkSession\n",
    "\n",
    "spark = SparkSession.builder \\\n",
    "        .master('local') \\\n",
    "        .appName('Quiz1') \\\n",
    "        .config('spark.ui.port', '4050') \\\n",
    "        .getOrCreate()\n",
    "\n",
    "sc = spark.sparkContext"
   ]
  },
  {
   "cell_type": "markdown",
   "metadata": {},
   "source": [
    "문제 1.\n",
    "* 5점을 받은 영화 중에서 알파벳 'T'로 시작하는 영화의 개수는?\n",
    "* 'T'는 대문자\n",
    "* 주의: 5점을 받은 영화중 알파벳 'T'로 시작하는 영화를 중복해서 세지 않도록!\n",
    "* 제한조건: 위 코드를 이용해 u.data와 u.item을 DataFrame으로 읽어들여 select및 join을 이용하여 계산하시오.\n",
    "* 제한조건: 마지막 action으로 답이 출력되도록 코드를 작성하시오. 즉, 최종 답을 계산하기 위해 pyspark action이 아닌 python 코드를 사용하지 마시오.\n",
    "* 힌트: filter를 수행 시 filter조건을 표현할 때 어떤 column의 부분문자열을 뽑기 위해 pyspark.sql.functions.substring를 사용할 수 있음. 예를 들어 uitem이란 data frame의 title이란 column의 첫 글자는 substring(uitem[\"title\"], 0, 1)으로 지정할 수 있음."
   ]
  },
  {
   "cell_type": "code",
   "execution_count": 53,
   "metadata": {},
   "outputs": [],
   "source": [
    "from pyspark.sql.types import *\n",
    "\n",
    "udataschema = StructType([\n",
    "    StructField(\"uid\", LongType(), False),\n",
    "    StructField(\"mid\", LongType(), False),\n",
    "    StructField(\"rate\", LongType(), False),\n",
    "    StructField(\"timestamp\", LongType(), False)\n",
    "])\n",
    "\n",
    "udata = spark.read.format(\"csv\").option(\"sep\", \"\\t\").schema(udataschema).load(\"../../data/input3/u.data\")\n",
    "\n",
    "uitemschema = StructType([\n",
    "    StructField(\"mid\", LongType(), False),\n",
    "    StructField(\"title\", StringType(), False)\n",
    "])\n",
    "\n",
    "uitem = spark.read.format(\"csv\").option(\"sep\", \"|\").schema(uitemschema).load(\"../../data/input3/u.item\")"
   ]
  },
  {
   "cell_type": "code",
   "execution_count": 54,
   "metadata": {},
   "outputs": [
    {
     "name": "stdout",
     "output_type": "stream",
     "text": [
      "+---+--------------------+-----+\n",
      "|mid|               title|start|\n",
      "+---+--------------------+-----+\n",
      "|  1|    Toy Story (1995)|    T|\n",
      "|  7|Twelve Monkeys (1...|    T|\n",
      "| 23|  Taxi Driver (1976)|    T|\n",
      "| 40|To Wong Foo, Than...|    T|\n",
      "| 59|Three Colors: Red...|    T|\n",
      "+---+--------------------+-----+\n",
      "only showing top 5 rows\n",
      "\n"
     ]
    }
   ],
   "source": [
    "t_uitem = uitem.selectExpr('*', 'SUBSTR(title, 1, 1) as start').where('start=\"T\"')\n",
    "t_uitem.show(5)"
   ]
  },
  {
   "cell_type": "code",
   "execution_count": 55,
   "metadata": {},
   "outputs": [
    {
     "name": "stdout",
     "output_type": "stream",
     "text": [
      "+---+---+----+---------+\n",
      "|uid|mid|rate|timestamp|\n",
      "+---+---+----+---------+\n",
      "|  7|451|   5|891353892|\n",
      "|112|289|   5|884992690|\n",
      "|244|652|   5|880606533|\n",
      "| 16|655|   5|877724066|\n",
      "|321|483|   5|879439658|\n",
      "+---+---+----+---------+\n",
      "only showing top 5 rows\n",
      "\n"
     ]
    }
   ],
   "source": [
    "udata5 = udata.selectExpr('*').where('rate=5').distinct()\n",
    "udata5.show(5)"
   ]
  },
  {
   "cell_type": "code",
   "execution_count": 57,
   "metadata": {},
   "outputs": [
    {
     "name": "stdout",
     "output_type": "stream",
     "text": [
      "+---------------------+\n",
      "|count(DISTINCT title)|\n",
      "+---------------------+\n",
      "|                   75|\n",
      "+---------------------+\n",
      "\n"
     ]
    }
   ],
   "source": [
    "udata5.join(t_uitem, t_uitem['mid'] == udata5['mid'], 'inner').selectExpr('COUNT(DISTINCT(title))').show()"
   ]
  },
  {
   "cell_type": "markdown",
   "metadata": {},
   "source": [
    "문제 2.\n",
    "* 사용자들에게 1점도 받고 5점도 받은 적이 있는 영화의 제목의 길이 중 가장 긴 영화제목의 길이는?\n",
    "* 동일 영화가 어떤 사용자에게는 1점, 어떤 사용자에게는 5점을 받은 경우를 말함\n",
    "* 힌트: 어떤 column의 길이의 max 를 select할 때 max 함수와 length함수를 사용. 예를 들어 uitem[\"title\"]의 길이의 max는 select(max(length(uitem[\"title\"]))) 로 계산 할 수 있음\n",
    "* 제한조건: 마지막 action으로 답이 출력되도록 코드를 작성하시오. 즉, 최종 답을 계산하기 위해 pyspark action이 아닌 python 코드를 사용하지 마시오."
   ]
  },
  {
   "cell_type": "code",
   "execution_count": 38,
   "metadata": {},
   "outputs": [
    {
     "name": "stdout",
     "output_type": "stream",
     "text": [
      "+---+---+----+---------+\n",
      "|uid|mid|rate|timestamp|\n",
      "+---+---+----+---------+\n",
      "|269|252|   1|891456350|\n",
      "|  7|451|   5|891353892|\n",
      "|112|289|   5|884992690|\n",
      "|244|652|   5|880606533|\n",
      "| 38|122|   1|892434801|\n",
      "+---+---+----+---------+\n",
      "only showing top 5 rows\n",
      "\n"
     ]
    }
   ],
   "source": [
    "udata15 = udata.selectExpr('*').where('rate=5 OR rate=1').distinct()\n",
    "udata15.show(5)"
   ]
  },
  {
   "cell_type": "code",
   "execution_count": 41,
   "metadata": {},
   "outputs": [
    {
     "name": "stdout",
     "output_type": "stream",
     "text": [
      "+------------------+\n",
      "|max(length(title))|\n",
      "+------------------+\n",
      "|                81|\n",
      "+------------------+\n",
      "\n"
     ]
    }
   ],
   "source": [
    "udata15.join(uitem, uitem['mid'] == udata5['mid'], 'inner').selectExpr('MAX(LENGTH(title))').show()"
   ]
  },
  {
   "cell_type": "code",
   "execution_count": 58,
   "metadata": {},
   "outputs": [],
   "source": [
    "sc.stop()"
   ]
  },
  {
   "cell_type": "code",
   "execution_count": null,
   "metadata": {},
   "outputs": [],
   "source": []
  }
 ],
 "metadata": {
  "kernelspec": {
   "display_name": "Python 3.8.13 ('spark')",
   "language": "python",
   "name": "python3"
  },
  "language_info": {
   "codemirror_mode": {
    "name": "ipython",
    "version": 3
   },
   "file_extension": ".py",
   "mimetype": "text/x-python",
   "name": "python",
   "nbconvert_exporter": "python",
   "pygments_lexer": "ipython3",
   "version": "3.8.13"
  },
  "orig_nbformat": 4,
  "vscode": {
   "interpreter": {
    "hash": "2d3673617709ceda87ac6d055fc19541640288a4bee74fd36c0e58c49d867a56"
   }
  }
 },
 "nbformat": 4,
 "nbformat_minor": 2
}
